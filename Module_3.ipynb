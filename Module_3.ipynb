{
 "cells": [
  {
   "cell_type": "markdown",
   "metadata": {},
   "source": [
    "**Arithematic Operators**\n"
   ]
  },
  {
   "cell_type": "code",
   "execution_count": 1,
   "metadata": {},
   "outputs": [
    {
     "name": "stdout",
     "output_type": "stream",
     "text": [
      "Resultant addition is:  15\n",
      "Resultant subtraction is:  5\n",
      "Resultant multiplication is:  50\n",
      "Resultant division is:  2.0\n",
      "Resultant modulo is:  0\n",
      "Resultant floor division is:  2\n",
      "Resultant exponential is:  100000\n"
     ]
    }
   ],
   "source": [
    "a=10\n",
    "b=5\n",
    "\n",
    "add=a+b\n",
    "print(\"Resultant addition is: \",add)\n",
    "\n",
    "sub=a-b\n",
    "print(\"Resultant subtraction is: \",sub)\n",
    "\n",
    "mul=a*b\n",
    "print(\"Resultant multiplication is: \",mul)\n",
    "\n",
    "div=a/b\n",
    "print(\"Resultant division is: \",div)\n",
    "\n",
    "mod=a%b\n",
    "print(\"Resultant modulo is: \",mod)\n",
    "\n",
    "fldiv=a//b\n",
    "print(\"Resultant floor division is: \",fldiv)\n",
    "\n",
    "expo=a**b\n",
    "print(\"Resultant exponential is: \",expo)"
   ]
  },
  {
   "cell_type": "markdown",
   "metadata": {},
   "source": [
    "**Difference between Modulo(%) and Floor Division(//)**"
   ]
  },
  {
   "cell_type": "code",
   "execution_count": 2,
   "metadata": {},
   "outputs": [
    {
     "name": "stdout",
     "output_type": "stream",
     "text": [
      "Floor Division =  3\n",
      "Remainder =  1\n"
     ]
    }
   ],
   "source": [
    "a=13\n",
    "b=4\n",
    "#Floor Division\n",
    "c=a//b\n",
    "print(\"Floor Division = \",c)\n",
    "\n",
    "#Modulo operator \n",
    "d=a%b\n",
    "print(\"Remainder = \",d)"
   ]
  },
  {
   "cell_type": "markdown",
   "metadata": {},
   "source": [
    "**Division Operator for Mixed Data Type**"
   ]
  },
  {
   "cell_type": "code",
   "execution_count": 3,
   "metadata": {},
   "outputs": [
    {
     "name": "stdout",
     "output_type": "stream",
     "text": [
      "Value of e 2.5\n",
      "Value of f 2.5\n",
      "Value of g 2.5\n",
      "Value of h 2.5\n"
     ]
    }
   ],
   "source": [
    "a=5.0\n",
    "b=2.0\n",
    "c=5\n",
    "d=2\n",
    "\n",
    "e=a/b\n",
    "print(\"Value of e\", e)\n",
    "\n",
    "f=a/d\n",
    "print(\"Value of f\", f)\n",
    "\n",
    "g=c/b\n",
    "print(\"Value of g\", g)\n",
    "\n",
    "h=c/d\n",
    "print(\"Value of h\", h)"
   ]
  },
  {
   "cell_type": "markdown",
   "metadata": {},
   "source": [
    "**Relational or Comparison Operator**"
   ]
  },
  {
   "cell_type": "code",
   "execution_count": 3,
   "metadata": {},
   "outputs": [
    {
     "name": "stdout",
     "output_type": "stream",
     "text": [
      "Value of a less than b: False\n",
      "Value of a greater than b: True\n",
      "Value of a less than or equal to b: False\n",
      "Value of a greater than or equal to b: True\n",
      "Value of a equal to b: False\n",
      "Value of a not equal to b True\n"
     ]
    }
   ],
   "source": [
    "a=10\n",
    "b=5\n",
    "\n",
    "print(\"Value of a less than b:\", a<b)\n",
    "\n",
    "print(\"Value of a greater than b:\", a>b)\n",
    "\n",
    "print(\"Value of a less than or equal to b:\", a<=b)\n",
    "\n",
    "print(\"Value of a greater than or equal to b:\", a>=b)\n",
    "\n",
    "print(\"Value of a equal to b:\", a==b)\n",
    "\n",
    "print(\"Value of a not equal to b\", a!=b)"
   ]
  },
  {
   "cell_type": "markdown",
   "metadata": {},
   "source": [
    "**Logical Operators**"
   ]
  },
  {
   "cell_type": "code",
   "execution_count": 5,
   "metadata": {},
   "outputs": [
    {
     "name": "stdout",
     "output_type": "stream",
     "text": [
      "case 1: True\n",
      "case 2: False\n",
      "case 3: False\n",
      "case 4: False\n"
     ]
    }
   ],
   "source": [
    "#Logical AND\n",
    "\n",
    "a=5\n",
    "b=2\n",
    "c=3\n",
    "\n",
    "print(\"case 1:\", a>b and a>c)\n",
    "\n",
    "print(\"case 2:\", a>b and a<c)\n",
    "\n",
    "print(\"case 3:\", a<b and a>c)\n",
    "\n",
    "print(\"case 4:\", a<b and a<c)"
   ]
  },
  {
   "cell_type": "code",
   "execution_count": 6,
   "metadata": {},
   "outputs": [
    {
     "name": "stdout",
     "output_type": "stream",
     "text": [
      "case 1: True\n",
      "case 2: True\n",
      "case 3: True\n",
      "case 4: False\n"
     ]
    }
   ],
   "source": [
    "#Logical OR\n",
    "\n",
    "a=5\n",
    "b=2\n",
    "c=3\n",
    "\n",
    "print(\"case 1:\", a>b or a>c)\n",
    "\n",
    "print(\"case 2:\", a>b or a<c)\n",
    "\n",
    "print(\"case 3:\", a<b or a>c)\n",
    "\n",
    "print(\"case 4:\", a<b or a<c)"
   ]
  },
  {
   "cell_type": "code",
   "execution_count": 7,
   "metadata": {},
   "outputs": [
    {
     "name": "stdout",
     "output_type": "stream",
     "text": [
      "case 1: False\n",
      "case 2: True\n"
     ]
    }
   ],
   "source": [
    "#Logical NOT\n",
    "\n",
    "a=5\n",
    "b=2\n",
    "\n",
    "print(\"case 1:\", not(a>b))\n",
    "print(\"case 2:\", not(a<b))"
   ]
  },
  {
   "cell_type": "markdown",
   "metadata": {},
   "source": [
    "**Type Function**"
   ]
  },
  {
   "cell_type": "code",
   "execution_count": 8,
   "metadata": {},
   "outputs": [
    {
     "name": "stdout",
     "output_type": "stream",
     "text": [
      "<class 'int'>\n",
      "<class 'str'>\n",
      "<class 'float'>\n",
      "<class 'complex'>\n"
     ]
    }
   ],
   "source": [
    "a=10\n",
    "b=\"Hello World\"\n",
    "c=33.33\n",
    "d=2+3j\n",
    "\n",
    "print(type(a))\n",
    "print(type(b))\n",
    "print(type(c))\n",
    "print(type(d))"
   ]
  },
  {
   "cell_type": "markdown",
   "metadata": {},
   "source": [
    "**Bitwise Operators**"
   ]
  },
  {
   "cell_type": "code",
   "execution_count": 9,
   "metadata": {},
   "outputs": [
    {
     "name": "stdout",
     "output_type": "stream",
     "text": [
      "Value of Bitwise AND 0\n",
      "Value of Bitwise OR 14\n",
      "Value of Bitwise XOR 14\n",
      "Value of Bitwise NOT -11\n",
      "Value of Bitwise Left Shift 10\n",
      "Valie of Bitwise Right Shift 5\n"
     ]
    }
   ],
   "source": [
    "A=10 #1010\n",
    "B=4  #0100\n",
    "print(\"Value of Bitwise AND\", A & B)\n",
    "\n",
    "a=10\n",
    "b=4\n",
    "print(\"Value of Bitwise OR\", a | b)\n",
    "\n",
    "a=10\n",
    "b=4\n",
    "print(\"Value of Bitwise XOR\", a ^ b)\n",
    "\n",
    "a=10\n",
    "print(\"Value of Bitwise NOT\", ~a)\n",
    "\n",
    "a=5\n",
    "print(\"Value of Bitwise Left Shift\", a << 1)\n",
    "\n",
    "a=10\n",
    "print(\"Valie of Bitwise Right Shift\", a >> 1)"
   ]
  }
 ],
 "metadata": {
  "kernelspec": {
   "display_name": "Python 3",
   "language": "python",
   "name": "python3"
  },
  "language_info": {
   "codemirror_mode": {
    "name": "ipython",
    "version": 3
   },
   "file_extension": ".py",
   "mimetype": "text/x-python",
   "name": "python",
   "nbconvert_exporter": "python",
   "pygments_lexer": "ipython3",
   "version": "3.12.1"
  }
 },
 "nbformat": 4,
 "nbformat_minor": 2
}
